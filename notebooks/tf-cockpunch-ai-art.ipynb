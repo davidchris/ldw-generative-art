{
 "cells": [
  {
   "cell_type": "markdown",
   "id": "f22821fc-403c-4528-bb6e-35c6d9c59104",
   "metadata": {},
   "source": [
    "# Tim Ferris Cockpunch AI Art Competition 2022\n",
    "\n",
    "2022-12-19\n",
    "\n",
    "https://tim.blog/2022/12/16/ai-art-competition/\n",
    "\n",
    "https://github.com/huggingface/diffusers\n",
    "\n",
    "https://huggingface.co/blog/stable_diffusion"
   ]
  },
  {
   "cell_type": "code",
   "execution_count": null,
   "id": "32234abe-7e1a-435c-9114-6d25b07f8035",
   "metadata": {},
   "outputs": [],
   "source": [
    "import os\n",
    "os.chdir(\"../\")\n",
    "os.getcwd()"
   ]
  },
  {
   "cell_type": "markdown",
   "id": "64ed6290-6995-469b-869b-2848c7e8ac47",
   "metadata": {},
   "source": [
    "## Constants"
   ]
  },
  {
   "cell_type": "code",
   "execution_count": null,
   "id": "25ca0de0-0c65-49c3-949d-144c4f4b6baa",
   "metadata": {},
   "outputs": [],
   "source": [
    "IMAGE_SAVE_PATH = \"/home/david/Pictures/2022-Cockpunch/\""
   ]
  },
  {
   "cell_type": "code",
   "execution_count": null,
   "id": "a839be37-3b1c-437a-a79e-153d66039460",
   "metadata": {},
   "outputs": [],
   "source": [
    "from diffusers import StableDiffusionImg2ImgPipeline, DPMSolverMultistepScheduler, StableDiffusionPipeline, StableDiffusionDepth2ImgPipeline\n",
    "from IPython.display import Image as img\n",
    "from PIL import Image\n",
    "import torch\n",
    "from torch import autocast\n",
    "from datetime import datetime\n",
    "import json\n",
    "from pathlib import Path"
   ]
  },
  {
   "cell_type": "markdown",
   "id": "2f1c6511-4f66-46a6-aa58-842a6cb339e9",
   "metadata": {},
   "source": [
    "## Functions"
   ]
  },
  {
   "cell_type": "code",
   "execution_count": null,
   "id": "90814a77-0042-44e6-8b2d-283c66804942",
   "metadata": {},
   "outputs": [],
   "source": [
    "def image_grid(imgs, rows, cols):\n",
    "    assert len(imgs) == rows*cols\n",
    "\n",
    "    w, h = imgs[0].size\n",
    "    grid = Image.new('RGB', size=(cols*w, rows*h))\n",
    "    grid_w, grid_h = grid.size\n",
    "    \n",
    "    for i, img in enumerate(imgs):\n",
    "        grid.paste(img, box=(i%cols*w, i//cols*h))\n",
    "    return grid"
   ]
  },
  {
   "cell_type": "markdown",
   "id": "6570e076-f0c2-4dc3-a0f9-5f1cd3b7677a",
   "metadata": {},
   "source": [
    "## Setup"
   ]
  },
  {
   "cell_type": "code",
   "execution_count": null,
   "id": "4cc04592-a765-42ab-8f87-033e0571192b",
   "metadata": {},
   "outputs": [],
   "source": [
    "PIPELINE_TYPE = \"text2img\""
   ]
  },
  {
   "cell_type": "code",
   "execution_count": null,
   "id": "e93a4858-8f85-49eb-8ffe-3dbeb3fba5de",
   "metadata": {},
   "outputs": [],
   "source": [
    "if PIPELINE_TYPE == \"img2img\":\n",
    "    # img2img\n",
    "    pipe = StableDiffusionImg2ImgPipeline.from_pretrained(\n",
    "        \"stabilityai/stable-diffusion-2-1\", \n",
    "        torch_dtype=torch.float32,\n",
    "        use_auth_token=True,\n",
    "        # safety_checker=None,\n",
    "    )\n",
    "elif PIPELINE_TYPE == \"depth2img\":\n",
    "    # dept2img\n",
    "    pipe = StableDiffusionDepth2ImgPipeline.from_pretrained(\n",
    "        \"stabilityai/stable-diffusion-2-depth\",\n",
    "        torch_dtype=torch.float16,\n",
    "        use_auth_token=True,\n",
    "    ).to(\"cuda\")\n",
    "elif PIPELINE_TYPE == \"text2img\":\n",
    "    pipe = StableDiffusionPipeline.from_pretrained(\n",
    "        \"stabilityai/stable-diffusion-2-1\",\n",
    "        torch_dtype=torch.float16,\n",
    "        use_auth_token=True,\n",
    "    ).to(\"cuda\")\n",
    "else:\n",
    "    raise NotImplementedError"
   ]
  },
  {
   "cell_type": "code",
   "execution_count": null,
   "id": "5f9d7bff-95e8-4c17-ab19-c42c42d7dea0",
   "metadata": {},
   "outputs": [],
   "source": [
    "pipe.scheduler = DPMSolverMultistepScheduler.from_config(pipe.scheduler.config)"
   ]
  },
  {
   "cell_type": "code",
   "execution_count": null,
   "id": "4b6a0b3c-0668-443d-8ab2-48a58ff37275",
   "metadata": {},
   "outputs": [],
   "source": [
    "pipe.to(\"cuda\")\n",
    "pipe.enable_attention_slicing()"
   ]
  },
  {
   "cell_type": "markdown",
   "id": "7b4032a0-86ee-454b-91e3-e3111d5903b8",
   "metadata": {},
   "source": [
    "## Load Initial Image"
   ]
  },
  {
   "cell_type": "code",
   "execution_count": null,
   "id": "4ed9a1be-d68f-4fb5-929d-3bdc0e3b71ae",
   "metadata": {},
   "outputs": [],
   "source": [
    "initial_image_path = \"initial_images/487_v1.jpg\""
   ]
  },
  {
   "cell_type": "code",
   "execution_count": null,
   "id": "87e01817-46be-4322-81bd-2fcbe6fe069e",
   "metadata": {},
   "outputs": [],
   "source": [
    "initial_image = Image.open(initial_image_path)\n",
    "initial_image = initial_image.resize((768, 768))\n",
    "initial_image"
   ]
  },
  {
   "cell_type": "code",
   "execution_count": null,
   "id": "35b4b53e-a043-42a6-a7f2-eaf414ba40b4",
   "metadata": {},
   "outputs": [],
   "source": [
    "%%time\n",
    "image_params = {\n",
    "    \"prompt\": \"chicks fall into a meatgrinder. futuristic, hyper-realistic painting, Expressionism, blue tones, dystopian...\",\n",
    "    \n",
    "    \"negative_prompt\": \"((((ugly)))), (((duplicate))), ((morbid)), ((mutilated)), [out of frame], extra fingers, mutated hands, ((poorly drawn hands)), ((poorly drawn face)), (((mutation))), (((deformed))), ((ugly)), blurry, ((bad anatomy)), (((bad proportions))), ((extra limbs)), cloned face, (((disfigured))). out of frame, ugly, extra limbs, (bad anatomy), gross proportions, (malformed limbs), ((missing arms)), ((missing legs)), (((extra arms))), (((extra legs))), mutated hands, (fused fingers), (too many fingers), (((long neck)))((((ugly)))), (((duplicate))), ((morbid)), ((mutilated)), [out of frame], extra fingers, mutated hands, ((poorly drawn hands)), ((poorly drawn face)), (((mutation))), (((deformed))), ((ugly)), blurry, ((bad anatomy)), (((bad proportions))), ((extra limbs)), cloned face, (((disfigured))). out of frame, ugly, extra limbs, (bad anatomy), gross proportions, (malformed limbs), ((missing arms)), ((missing legs)), (((extra arms))), (((extra legs))), mutated hands, (fused fingers), (too many fingers), (((long neck)))\",\n",
    "    \"seed\": 42,\n",
    "    \"scale\": 10.0,\n",
    "    \"strength\": 0.8,\n",
    "    \"steps\": 100,\n",
    "    \"creator\": \"LDW\",\n",
    "    \"init_image_no\": \"idea_f\"\n",
    "}\n",
    "\n",
    "grid_file_name = (\n",
    "    image_params[\"prompt\"]\n",
    "        .replace(\" \", \"_\")\n",
    "        .replace(\".\", \"\")\n",
    "        .replace(\",\", \"\")\n",
    "        .replace(\"'\", \"\")\n",
    "        .replace(\"(\", \"\")\n",
    "        .replace(\")\", \"\")\n",
    ")\n",
    "date_time = datetime.fromtimestamp(datetime.timestamp(datetime.now())).strftime('%Y%m%d_%H%M%S')\n",
    "file_name = f\"{IMAGE_SAVE_PATH}{image_params['init_image_no']}_{date_time}_{grid_file_name}.png\"\n",
    "Path(f\"{IMAGE_SAVE_PATH}\").mkdir(parents=True, exist_ok=True)\n",
    "\n",
    "with open(f\"{IMAGE_SAVE_PATH}image_parameters/{image_params['init_image_no']}_{date_time}_{grid_file_name}.json\", \"w\") as fp:\n",
    "        json.dump(image_params, fp)\n",
    "\n",
    "print(file_name)\n",
    "\n",
    "generator = torch.Generator(\"cuda\").manual_seed(image_params[\"seed\"])\n",
    "\n",
    "result = pipe(\n",
    "    prompt=image_params[\"prompt\"], \n",
    "    negative_prompt=image_params[\"negative_prompt\"],\n",
    "    # image=initial_image, \n",
    "    # strength=image_params[\"strength\"], \n",
    "    guidance_scale=image_params['scale'],\n",
    "    num_inference_steps=image_params[\"steps\"],\n",
    "    num_images_per_prompt=4,\n",
    "    generator=generator,\n",
    ")   \n",
    "\n",
    "print(result)"
   ]
  },
  {
   "cell_type": "code",
   "execution_count": null,
   "id": "adb18ef8-3701-4aba-b502-6853ec323b93",
   "metadata": {},
   "outputs": [],
   "source": [
    "grid = image_grid(result[\"images\"], rows=2, cols=2)\n",
    "grid.save(file_name)\n",
    "img(file_name)"
   ]
  },
  {
   "cell_type": "code",
   "execution_count": null,
   "id": "5ee39eea-048b-42aa-b18f-22e95f44c4d3",
   "metadata": {},
   "outputs": [],
   "source": [
    "pic_of_interest = int(input())\n",
    "selected_img = result[\"images\"][pic_of_interest]\n",
    "selected_img"
   ]
  },
  {
   "cell_type": "code",
   "execution_count": null,
   "id": "99aa5344-2c49-4ce7-958b-5d9508436e86",
   "metadata": {},
   "outputs": [],
   "source": [
    "Path(f\"{IMAGE_SAVE_PATH}{image_params['init_image_no']}/\").mkdir(parents=True, exist_ok=True)\n",
    "selected_img.save(f\"{IMAGE_SAVE_PATH}{image_params['init_image_no']}/{date_time}.png\")"
   ]
  },
  {
   "cell_type": "markdown",
   "id": "9d5ea139-e948-44a6-b1e8-c4db922a65dc",
   "metadata": {},
   "source": [
    "## Further factors to play with\n",
    "\n",
    "* scheduler\n",
    "\n",
    "## ideas\n",
    "\n",
    "- A: Combine with dead chicken photo from Lara\n",
    "  - combining two images with SD is not possible\n",
    "  - can only go from text2img or img+text2img, not merge/remix two images\n",
    "- B: chicken race from forest\n",
    "    - European naked neck chicken\n",
    "    - Westfälischer Totleger\n",
    "- C: a female cockpunch\n",
    "- ~D: one pretty image~\n",
    "- E: composition multiple cocks in one image\n",
    "- F: chicks shredding machine\n",
    "\n",
    "\n",
    "### Negative prompt recommendation:\n",
    "\n",
    "```\n",
    "((((ugly)))), (((duplicate))), ((morbid)), ((mutilated)), [out of frame], extra fingers, mutated hands, ((poorly drawn hands)), ((poorly drawn face)), (((mutation))), (((deformed))), ((ugly)), blurry, ((bad anatomy)), (((bad proportions))), ((extra limbs)), cloned face, (((disfigured))). out of frame, ugly, extra limbs, (bad anatomy), gross proportions, (malformed limbs), ((missing arms)), ((missing legs)), (((extra arms))), (((extra legs))), mutated hands, (fused fingers), (too many fingers), (((long neck)))((((ugly)))), (((duplicate))), ((morbid)), ((mutilated)), [out of frame], extra fingers, mutated hands, ((poorly drawn hands)), ((poorly drawn face)), (((mutation))), (((deformed))), ((ugly)), blurry, ((bad anatomy)), (((bad proportions))), ((extra limbs)), cloned face, (((disfigured))). out of frame, ugly, extra limbs, (bad anatomy), gross proportions, (malformed limbs), ((missing arms)), ((missing legs)), (((extra arms))), (((extra legs))), mutated hands, (fused fingers), (too many fingers), (((long neck)))\n",
    "```"
   ]
  }
 ],
 "metadata": {
  "kernelspec": {
   "display_name": "Python 3 (ipykernel)",
   "language": "python",
   "name": "python3"
  },
  "language_info": {
   "codemirror_mode": {
    "name": "ipython",
    "version": 3
   },
   "file_extension": ".py",
   "mimetype": "text/x-python",
   "name": "python",
   "nbconvert_exporter": "python",
   "pygments_lexer": "ipython3",
   "version": "3.9.15"
  },
  "vscode": {
   "interpreter": {
    "hash": "c30fb564905b1fc28ed4df6b2e2ebb2e394e6962e64148c14d4ebf9a6ce2e4b1"
   }
  }
 },
 "nbformat": 4,
 "nbformat_minor": 5
}
